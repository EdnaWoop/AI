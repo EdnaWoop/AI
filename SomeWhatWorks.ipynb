{
 "cells": [
  {
   "cell_type": "markdown",
   "metadata": {},
   "source": [
    "# Importing necessary packages"
   ]
  },
  {
   "cell_type": "code",
   "execution_count": 88,
   "metadata": {},
   "outputs": [],
   "source": [
    "import tensorflow as tf\n",
    "from tensorflow import keras\n",
    "import numpy as np\n",
    "import matplotlib.pyplot as plt\n",
    "#from google.colab import files\n",
    "from keras.preprocessing import image\n",
    "from PIL import Image\n",
    "import cv2\n",
    "import warnings\n",
    "warnings.filterwarnings('ignore')"
   ]
  },
  {
   "cell_type": "markdown",
   "metadata": {},
   "source": [
    "# Loading the dataset and storing the data in train_images, train_labels and test_images, test_labels"
   ]
  },
  {
   "cell_type": "code",
   "execution_count": 89,
   "metadata": {},
   "outputs": [],
   "source": [
    "(train_images,train_labels),(test_images,test_labels) = keras.datasets.mnist.load_data()"
   ]
  },
  {
   "cell_type": "markdown",
   "metadata": {},
   "source": [
    "Reshaping the data to fit in our neural network "
   ]
  },
  {
   "cell_type": "code",
   "execution_count": 90,
   "metadata": {},
   "outputs": [],
   "source": [
    "train_images = train_images.reshape(len(train_images),28,28,1) # (60,000,784)\n",
    "test_images = test_images.reshape(len(test_images),28,28,1)"
   ]
  },
  {
   "cell_type": "markdown",
   "metadata": {},
   "source": [
    "# Creating model"
   ]
  },
  {
   "cell_type": "code",
   "execution_count": 91,
   "metadata": {},
   "outputs": [],
   "source": [
    "model = keras.models.Sequential([\n",
    "                                 keras.layers.Conv2D(64,(3,3),activation='relu',input_shape=(28,28,1)),\n",
    "                                 keras.layers.MaxPool2D(2,2),\n",
    "                                 keras.layers.Flatten(),\n",
    "                                 keras.layers.Dense(28,activation='relu'),\n",
    "                                 keras.layers.Dense(10,activation='softmax')\n",
    "])"
   ]
  },
  {
   "cell_type": "code",
   "execution_count": 92,
   "metadata": {},
   "outputs": [
    {
     "name": "stdout",
     "output_type": "stream",
     "text": [
      "Model: \"sequential_2\"\n",
      "_________________________________________________________________\n",
      "Layer (type)                 Output Shape              Param #   \n",
      "=================================================================\n",
      "conv2d_2 (Conv2D)            (None, 26, 26, 64)        640       \n",
      "_________________________________________________________________\n",
      "max_pooling2d_2 (MaxPooling2 (None, 13, 13, 64)        0         \n",
      "_________________________________________________________________\n",
      "flatten_2 (Flatten)          (None, 10816)             0         \n",
      "_________________________________________________________________\n",
      "dense_4 (Dense)              (None, 28)                302876    \n",
      "_________________________________________________________________\n",
      "dense_5 (Dense)              (None, 10)                290       \n",
      "=================================================================\n",
      "Total params: 303,806\n",
      "Trainable params: 303,806\n",
      "Non-trainable params: 0\n",
      "_________________________________________________________________\n",
      "None\n"
     ]
    }
   ],
   "source": [
    "print(model.summary())"
   ]
  },
  {
   "cell_type": "markdown",
   "metadata": {},
   "source": [
    "# Compiling the model"
   ]
  },
  {
   "cell_type": "code",
   "execution_count": 93,
   "metadata": {},
   "outputs": [],
   "source": [
    "model.compile(optimizer='adam',metrics=['acc'],loss='sparse_categorical_crossentropy')"
   ]
  },
  {
   "cell_type": "markdown",
   "metadata": {},
   "source": [
    "# Training the model using fit"
   ]
  },
  {
   "cell_type": "code",
   "execution_count": null,
   "metadata": {},
   "outputs": [
    {
     "name": "stdout",
     "output_type": "stream",
     "text": [
      "Train on 54000 samples, validate on 6000 samples\n",
      "Epoch 1/10\n",
      "54000/54000 [==============================] - 34s 621us/sample - loss: 2.3101 - acc: 0.1931 - val_loss: 1.6145 - val_acc: 0.3843\n",
      "Epoch 2/10\n",
      "54000/54000 [==============================] - 33s 614us/sample - loss: 0.7797 - acc: 0.7226 - val_loss: 0.1014 - val_acc: 0.9698\n",
      "Epoch 3/10\n",
      "54000/54000 [==============================] - 34s 631us/sample - loss: 0.1051 - acc: 0.9698 - val_loss: 0.0791 - val_acc: 0.9762\n",
      "Epoch 4/10\n",
      "54000/54000 [==============================] - 36s 659us/sample - loss: 0.0684 - acc: 0.9788 - val_loss: 0.0760 - val_acc: 0.9773\n",
      "Epoch 5/10\n",
      "54000/54000 [==============================] - 37s 679us/sample - loss: 0.0512 - acc: 0.9842 - val_loss: 0.0837 - val_acc: 0.9800\n",
      "Epoch 6/10\n",
      "54000/54000 [==============================] - 34s 634us/sample - loss: 0.0406 - acc: 0.9874 - val_loss: 0.0911 - val_acc: 0.9790\n",
      "Epoch 7/10\n",
      "14816/54000 [=======>......................] - ETA: 28s - loss: 0.0269 - acc: 0.9919"
     ]
    }
   ],
   "source": [
    "model.fit(train_images,train_labels,epochs=10,batch_size=32, validation_split=0.1)"
   ]
  },
  {
   "cell_type": "code",
   "execution_count": null,
   "metadata": {},
   "outputs": [],
   "source": [
    "model.evaluate(test_images,test_labels)"
   ]
  },
  {
   "cell_type": "markdown",
   "metadata": {},
   "source": [
    "# Predicting using images"
   ]
  },
  {
   "cell_type": "code",
   "execution_count": null,
   "metadata": {},
   "outputs": [],
   "source": [
    "def predict_img(path):\n",
    "    img = image.load_img(path)\n",
    "    x = image.img_to_array(img)       \n",
    "    x = cv2.cvtColor(x, cv2.COLOR_BGR2GRAY)  #converting from rbg image to grayscale\n",
    "    print(\"**************** Uploaded Image ****************\")\n",
    "    plt.imshow(x,cmap='gray')\n",
    "    plt.show()\n",
    "    x = cv2.resize(np.array(x), (28, 28))    #resizing it to 28x28\n",
    "    x = x.reshape(28,28,1)                   #Reshaping it to fit in our model\n",
    "    x = np.expand_dims(x, axis=0)\n",
    "    class_label = model.predict(x)          #predicting\n",
    "    print(\"Predicted Value is:\",np.where(class_label[0]==max(class_label[0]))[0])"
   ]
  },
  {
   "cell_type": "code",
   "execution_count": null,
   "metadata": {},
   "outputs": [],
   "source": [
    "predict_img(r'C:\\Users\\Yash\\Desktop\\KTH\\Sem1-p2-AI\\ProjectNn\\Digits\\2.png')"
   ]
  },
  {
   "cell_type": "code",
   "execution_count": null,
   "metadata": {},
   "outputs": [],
   "source": []
  }
 ],
 "metadata": {
  "kernelspec": {
   "display_name": "Python 3",
   "language": "python",
   "name": "python3"
  },
  "language_info": {
   "codemirror_mode": {
    "name": "ipython",
    "version": 3
   },
   "file_extension": ".py",
   "mimetype": "text/x-python",
   "name": "python",
   "nbconvert_exporter": "python",
   "pygments_lexer": "ipython3",
   "version": "3.7.6"
  }
 },
 "nbformat": 4,
 "nbformat_minor": 4
}
